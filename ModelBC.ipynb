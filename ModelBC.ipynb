{
 "cells": [
  {
   "cell_type": "markdown",
   "metadata": {},
   "source": [
    "## Develop a model on Breast Cancer Dataset using TF, NN and Feature Columns API. Then, test new model deployment functionality"
   ]
  },
  {
   "cell_type": "code",
   "execution_count": 1,
   "metadata": {},
   "outputs": [],
   "source": [
    "import time\n",
    "import os\n",
    "import random as rn\n",
    "\n",
    "import numpy as np\n",
    "import pandas as pd\n",
    "from sklearn.datasets import load_breast_cancer\n",
    "from sklearn.metrics import confusion_matrix\n",
    "import matplotlib.pyplot as plt\n",
    "\n",
    "import tensorflow as tf\n",
    "\n",
    "# conda env: mlcpuv1\n",
    "import keras2onnx\n",
    "import onnxruntime as rt"
   ]
  },
  {
   "cell_type": "code",
   "execution_count": 2,
   "metadata": {},
   "outputs": [
    {
     "name": "stdout",
     "output_type": "stream",
     "text": [
      "TF version 2.3.1\n",
      "ONNX runtime version 1.4.0\n",
      "keras2onnx version 1.7.0\n"
     ]
    }
   ],
   "source": [
    "# check TF version (> 2.3)\n",
    "print('TF version', tf.__version__)\n",
    "print('ONNX runtime version', rt.__version__)\n",
    "print('keras2onnx version', keras2onnx.__version__)"
   ]
  },
  {
   "cell_type": "code",
   "execution_count": 3,
   "metadata": {},
   "outputs": [],
   "source": [
    "# to get more reproducible results with tf training\n",
    "os.environ['PYTHONHASHSEED'] = '0'\n",
    "\n",
    "# The below is necessary for starting Numpy generated random numbers\n",
    "# in a well-defined initial state.\n",
    "np.random.seed(42)\n",
    "\n",
    "# The below is necessary for starting core Python generated random numbers\n",
    "# in a well-defined state.\n",
    "rn.seed(12345)\n",
    "\n",
    "tf.random.set_seed(1234)"
   ]
  },
  {
   "cell_type": "code",
   "execution_count": 4,
   "metadata": {},
   "outputs": [],
   "source": [
    "# we take the dataset from Sklearn\n",
    "data = load_breast_cancer(as_frame=True)\n",
    "\n",
    "# I prefer working with Dataframe\n",
    "orig_df = data.frame"
   ]
  },
  {
   "cell_type": "code",
   "execution_count": 5,
   "metadata": {},
   "outputs": [
    {
     "data": {
      "text/plain": [
       "(569, 31)"
      ]
     },
     "execution_count": 5,
     "metadata": {},
     "output_type": "execute_result"
    }
   ],
   "source": [
    "orig_df.shape"
   ]
  },
  {
   "cell_type": "code",
   "execution_count": 6,
   "metadata": {},
   "outputs": [
    {
     "data": {
      "text/html": [
       "<div>\n",
       "<style scoped>\n",
       "    .dataframe tbody tr th:only-of-type {\n",
       "        vertical-align: middle;\n",
       "    }\n",
       "\n",
       "    .dataframe tbody tr th {\n",
       "        vertical-align: top;\n",
       "    }\n",
       "\n",
       "    .dataframe thead th {\n",
       "        text-align: right;\n",
       "    }\n",
       "</style>\n",
       "<table border=\"1\" class=\"dataframe\">\n",
       "  <thead>\n",
       "    <tr style=\"text-align: right;\">\n",
       "      <th></th>\n",
       "      <th>mean radius</th>\n",
       "      <th>mean texture</th>\n",
       "      <th>mean perimeter</th>\n",
       "      <th>mean area</th>\n",
       "      <th>mean smoothness</th>\n",
       "      <th>mean compactness</th>\n",
       "      <th>mean concavity</th>\n",
       "      <th>mean concave points</th>\n",
       "      <th>mean symmetry</th>\n",
       "      <th>mean fractal dimension</th>\n",
       "      <th>...</th>\n",
       "      <th>worst texture</th>\n",
       "      <th>worst perimeter</th>\n",
       "      <th>worst area</th>\n",
       "      <th>worst smoothness</th>\n",
       "      <th>worst compactness</th>\n",
       "      <th>worst concavity</th>\n",
       "      <th>worst concave points</th>\n",
       "      <th>worst symmetry</th>\n",
       "      <th>worst fractal dimension</th>\n",
       "      <th>target</th>\n",
       "    </tr>\n",
       "  </thead>\n",
       "  <tbody>\n",
       "    <tr>\n",
       "      <th>count</th>\n",
       "      <td>569.000000</td>\n",
       "      <td>569.000000</td>\n",
       "      <td>569.000000</td>\n",
       "      <td>569.000000</td>\n",
       "      <td>569.000000</td>\n",
       "      <td>569.000000</td>\n",
       "      <td>569.000000</td>\n",
       "      <td>569.000000</td>\n",
       "      <td>569.000000</td>\n",
       "      <td>569.000000</td>\n",
       "      <td>...</td>\n",
       "      <td>569.000000</td>\n",
       "      <td>569.000000</td>\n",
       "      <td>569.000000</td>\n",
       "      <td>569.000000</td>\n",
       "      <td>569.000000</td>\n",
       "      <td>569.000000</td>\n",
       "      <td>569.000000</td>\n",
       "      <td>569.000000</td>\n",
       "      <td>569.000000</td>\n",
       "      <td>569.000000</td>\n",
       "    </tr>\n",
       "    <tr>\n",
       "      <th>mean</th>\n",
       "      <td>14.127292</td>\n",
       "      <td>19.289649</td>\n",
       "      <td>91.969033</td>\n",
       "      <td>654.889104</td>\n",
       "      <td>0.096360</td>\n",
       "      <td>0.104341</td>\n",
       "      <td>0.088799</td>\n",
       "      <td>0.048919</td>\n",
       "      <td>0.181162</td>\n",
       "      <td>0.062798</td>\n",
       "      <td>...</td>\n",
       "      <td>25.677223</td>\n",
       "      <td>107.261213</td>\n",
       "      <td>880.583128</td>\n",
       "      <td>0.132369</td>\n",
       "      <td>0.254265</td>\n",
       "      <td>0.272188</td>\n",
       "      <td>0.114606</td>\n",
       "      <td>0.290076</td>\n",
       "      <td>0.083946</td>\n",
       "      <td>0.627417</td>\n",
       "    </tr>\n",
       "    <tr>\n",
       "      <th>std</th>\n",
       "      <td>3.524049</td>\n",
       "      <td>4.301036</td>\n",
       "      <td>24.298981</td>\n",
       "      <td>351.914129</td>\n",
       "      <td>0.014064</td>\n",
       "      <td>0.052813</td>\n",
       "      <td>0.079720</td>\n",
       "      <td>0.038803</td>\n",
       "      <td>0.027414</td>\n",
       "      <td>0.007060</td>\n",
       "      <td>...</td>\n",
       "      <td>6.146258</td>\n",
       "      <td>33.602542</td>\n",
       "      <td>569.356993</td>\n",
       "      <td>0.022832</td>\n",
       "      <td>0.157336</td>\n",
       "      <td>0.208624</td>\n",
       "      <td>0.065732</td>\n",
       "      <td>0.061867</td>\n",
       "      <td>0.018061</td>\n",
       "      <td>0.483918</td>\n",
       "    </tr>\n",
       "    <tr>\n",
       "      <th>min</th>\n",
       "      <td>6.981000</td>\n",
       "      <td>9.710000</td>\n",
       "      <td>43.790000</td>\n",
       "      <td>143.500000</td>\n",
       "      <td>0.052630</td>\n",
       "      <td>0.019380</td>\n",
       "      <td>0.000000</td>\n",
       "      <td>0.000000</td>\n",
       "      <td>0.106000</td>\n",
       "      <td>0.049960</td>\n",
       "      <td>...</td>\n",
       "      <td>12.020000</td>\n",
       "      <td>50.410000</td>\n",
       "      <td>185.200000</td>\n",
       "      <td>0.071170</td>\n",
       "      <td>0.027290</td>\n",
       "      <td>0.000000</td>\n",
       "      <td>0.000000</td>\n",
       "      <td>0.156500</td>\n",
       "      <td>0.055040</td>\n",
       "      <td>0.000000</td>\n",
       "    </tr>\n",
       "    <tr>\n",
       "      <th>25%</th>\n",
       "      <td>11.700000</td>\n",
       "      <td>16.170000</td>\n",
       "      <td>75.170000</td>\n",
       "      <td>420.300000</td>\n",
       "      <td>0.086370</td>\n",
       "      <td>0.064920</td>\n",
       "      <td>0.029560</td>\n",
       "      <td>0.020310</td>\n",
       "      <td>0.161900</td>\n",
       "      <td>0.057700</td>\n",
       "      <td>...</td>\n",
       "      <td>21.080000</td>\n",
       "      <td>84.110000</td>\n",
       "      <td>515.300000</td>\n",
       "      <td>0.116600</td>\n",
       "      <td>0.147200</td>\n",
       "      <td>0.114500</td>\n",
       "      <td>0.064930</td>\n",
       "      <td>0.250400</td>\n",
       "      <td>0.071460</td>\n",
       "      <td>0.000000</td>\n",
       "    </tr>\n",
       "    <tr>\n",
       "      <th>50%</th>\n",
       "      <td>13.370000</td>\n",
       "      <td>18.840000</td>\n",
       "      <td>86.240000</td>\n",
       "      <td>551.100000</td>\n",
       "      <td>0.095870</td>\n",
       "      <td>0.092630</td>\n",
       "      <td>0.061540</td>\n",
       "      <td>0.033500</td>\n",
       "      <td>0.179200</td>\n",
       "      <td>0.061540</td>\n",
       "      <td>...</td>\n",
       "      <td>25.410000</td>\n",
       "      <td>97.660000</td>\n",
       "      <td>686.500000</td>\n",
       "      <td>0.131300</td>\n",
       "      <td>0.211900</td>\n",
       "      <td>0.226700</td>\n",
       "      <td>0.099930</td>\n",
       "      <td>0.282200</td>\n",
       "      <td>0.080040</td>\n",
       "      <td>1.000000</td>\n",
       "    </tr>\n",
       "    <tr>\n",
       "      <th>75%</th>\n",
       "      <td>15.780000</td>\n",
       "      <td>21.800000</td>\n",
       "      <td>104.100000</td>\n",
       "      <td>782.700000</td>\n",
       "      <td>0.105300</td>\n",
       "      <td>0.130400</td>\n",
       "      <td>0.130700</td>\n",
       "      <td>0.074000</td>\n",
       "      <td>0.195700</td>\n",
       "      <td>0.066120</td>\n",
       "      <td>...</td>\n",
       "      <td>29.720000</td>\n",
       "      <td>125.400000</td>\n",
       "      <td>1084.000000</td>\n",
       "      <td>0.146000</td>\n",
       "      <td>0.339100</td>\n",
       "      <td>0.382900</td>\n",
       "      <td>0.161400</td>\n",
       "      <td>0.317900</td>\n",
       "      <td>0.092080</td>\n",
       "      <td>1.000000</td>\n",
       "    </tr>\n",
       "    <tr>\n",
       "      <th>max</th>\n",
       "      <td>28.110000</td>\n",
       "      <td>39.280000</td>\n",
       "      <td>188.500000</td>\n",
       "      <td>2501.000000</td>\n",
       "      <td>0.163400</td>\n",
       "      <td>0.345400</td>\n",
       "      <td>0.426800</td>\n",
       "      <td>0.201200</td>\n",
       "      <td>0.304000</td>\n",
       "      <td>0.097440</td>\n",
       "      <td>...</td>\n",
       "      <td>49.540000</td>\n",
       "      <td>251.200000</td>\n",
       "      <td>4254.000000</td>\n",
       "      <td>0.222600</td>\n",
       "      <td>1.058000</td>\n",
       "      <td>1.252000</td>\n",
       "      <td>0.291000</td>\n",
       "      <td>0.663800</td>\n",
       "      <td>0.207500</td>\n",
       "      <td>1.000000</td>\n",
       "    </tr>\n",
       "  </tbody>\n",
       "</table>\n",
       "<p>8 rows × 31 columns</p>\n",
       "</div>"
      ],
      "text/plain": [
       "       mean radius  mean texture  mean perimeter    mean area  \\\n",
       "count   569.000000    569.000000      569.000000   569.000000   \n",
       "mean     14.127292     19.289649       91.969033   654.889104   \n",
       "std       3.524049      4.301036       24.298981   351.914129   \n",
       "min       6.981000      9.710000       43.790000   143.500000   \n",
       "25%      11.700000     16.170000       75.170000   420.300000   \n",
       "50%      13.370000     18.840000       86.240000   551.100000   \n",
       "75%      15.780000     21.800000      104.100000   782.700000   \n",
       "max      28.110000     39.280000      188.500000  2501.000000   \n",
       "\n",
       "       mean smoothness  mean compactness  mean concavity  mean concave points  \\\n",
       "count       569.000000        569.000000      569.000000           569.000000   \n",
       "mean          0.096360          0.104341        0.088799             0.048919   \n",
       "std           0.014064          0.052813        0.079720             0.038803   \n",
       "min           0.052630          0.019380        0.000000             0.000000   \n",
       "25%           0.086370          0.064920        0.029560             0.020310   \n",
       "50%           0.095870          0.092630        0.061540             0.033500   \n",
       "75%           0.105300          0.130400        0.130700             0.074000   \n",
       "max           0.163400          0.345400        0.426800             0.201200   \n",
       "\n",
       "       mean symmetry  mean fractal dimension  ...  worst texture  \\\n",
       "count     569.000000              569.000000  ...     569.000000   \n",
       "mean        0.181162                0.062798  ...      25.677223   \n",
       "std         0.027414                0.007060  ...       6.146258   \n",
       "min         0.106000                0.049960  ...      12.020000   \n",
       "25%         0.161900                0.057700  ...      21.080000   \n",
       "50%         0.179200                0.061540  ...      25.410000   \n",
       "75%         0.195700                0.066120  ...      29.720000   \n",
       "max         0.304000                0.097440  ...      49.540000   \n",
       "\n",
       "       worst perimeter   worst area  worst smoothness  worst compactness  \\\n",
       "count       569.000000   569.000000        569.000000         569.000000   \n",
       "mean        107.261213   880.583128          0.132369           0.254265   \n",
       "std          33.602542   569.356993          0.022832           0.157336   \n",
       "min          50.410000   185.200000          0.071170           0.027290   \n",
       "25%          84.110000   515.300000          0.116600           0.147200   \n",
       "50%          97.660000   686.500000          0.131300           0.211900   \n",
       "75%         125.400000  1084.000000          0.146000           0.339100   \n",
       "max         251.200000  4254.000000          0.222600           1.058000   \n",
       "\n",
       "       worst concavity  worst concave points  worst symmetry  \\\n",
       "count       569.000000            569.000000      569.000000   \n",
       "mean          0.272188              0.114606        0.290076   \n",
       "std           0.208624              0.065732        0.061867   \n",
       "min           0.000000              0.000000        0.156500   \n",
       "25%           0.114500              0.064930        0.250400   \n",
       "50%           0.226700              0.099930        0.282200   \n",
       "75%           0.382900              0.161400        0.317900   \n",
       "max           1.252000              0.291000        0.663800   \n",
       "\n",
       "       worst fractal dimension      target  \n",
       "count               569.000000  569.000000  \n",
       "mean                  0.083946    0.627417  \n",
       "std                   0.018061    0.483918  \n",
       "min                   0.055040    0.000000  \n",
       "25%                   0.071460    0.000000  \n",
       "50%                   0.080040    1.000000  \n",
       "75%                   0.092080    1.000000  \n",
       "max                   0.207500    1.000000  \n",
       "\n",
       "[8 rows x 31 columns]"
      ]
     },
     "execution_count": 6,
     "metadata": {},
     "output_type": "execute_result"
    }
   ],
   "source": [
    "orig_df.describe()"
   ]
  },
  {
   "cell_type": "code",
   "execution_count": 7,
   "metadata": {},
   "outputs": [
    {
     "data": {
      "text/plain": [
       "array([0, 1])"
      ]
     },
     "execution_count": 7,
     "metadata": {},
     "output_type": "execute_result"
    }
   ],
   "source": [
    "orig_df['target'].unique()"
   ]
  },
  {
   "cell_type": "code",
   "execution_count": 8,
   "metadata": {},
   "outputs": [
    {
     "data": {
      "text/plain": [
       "Index(['mean radius', 'mean texture', 'mean perimeter', 'mean area',\n",
       "       'mean smoothness', 'mean compactness', 'mean concavity',\n",
       "       'mean concave points', 'mean symmetry', 'mean fractal dimension',\n",
       "       'radius error', 'texture error', 'perimeter error', 'area error',\n",
       "       'smoothness error', 'compactness error', 'concavity error',\n",
       "       'concave points error', 'symmetry error', 'fractal dimension error',\n",
       "       'worst radius', 'worst texture', 'worst perimeter', 'worst area',\n",
       "       'worst smoothness', 'worst compactness', 'worst concavity',\n",
       "       'worst concave points', 'worst symmetry', 'worst fractal dimension',\n",
       "       'target'],\n",
       "      dtype='object')"
      ]
     },
     "execution_count": 8,
     "metadata": {},
     "output_type": "execute_result"
    }
   ],
   "source": [
    "orig_df.columns"
   ]
  },
  {
   "cell_type": "code",
   "execution_count": 9,
   "metadata": {},
   "outputs": [],
   "source": [
    "# we must rename columns, to remove spaces in names\n",
    "# otherwise we get problems with ONNX\n",
    "\n",
    "# substitute all spaces with _\n",
    "dict_columns = {}\n",
    "\n",
    "for col in orig_df.columns:\n",
    "    dict_columns[col] = col.replace(\" \", \"_\")\n",
    "\n",
    "orig_df = orig_df.rename(columns=dict_columns)"
   ]
  },
  {
   "cell_type": "code",
   "execution_count": 10,
   "metadata": {},
   "outputs": [
    {
     "data": {
      "text/plain": [
       "Index(['mean_radius', 'mean_texture', 'mean_perimeter', 'mean_area',\n",
       "       'mean_smoothness', 'mean_compactness', 'mean_concavity',\n",
       "       'mean_concave_points', 'mean_symmetry', 'mean_fractal_dimension',\n",
       "       'radius_error', 'texture_error', 'perimeter_error', 'area_error',\n",
       "       'smoothness_error', 'compactness_error', 'concavity_error',\n",
       "       'concave_points_error', 'symmetry_error', 'fractal_dimension_error',\n",
       "       'worst_radius', 'worst_texture', 'worst_perimeter', 'worst_area',\n",
       "       'worst_smoothness', 'worst_compactness', 'worst_concavity',\n",
       "       'worst_concave_points', 'worst_symmetry', 'worst_fractal_dimension',\n",
       "       'target'],\n",
       "      dtype='object')"
      ]
     },
     "execution_count": 10,
     "metadata": {},
     "output_type": "execute_result"
    }
   ],
   "source": [
    "orig_df.columns"
   ]
  },
  {
   "cell_type": "code",
   "execution_count": 11,
   "metadata": {},
   "outputs": [
    {
     "name": "stdout",
     "output_type": "stream",
     "text": [
      "Numbers of samples for (total, train, valid, test): 569 398 85 86\n"
     ]
    }
   ],
   "source": [
    "# Split the dataset in train, valid, test\n",
    "\n",
    "N_TOTAL = orig_df.shape[0]\n",
    "FRAC_TRAIN = 0.7\n",
    "FRAC_VALID = 0.15\n",
    "\n",
    "N_TRAIN = int(N_TOTAL * FRAC_TRAIN)\n",
    "N_VALID = int(N_TOTAL * FRAC_VALID)\n",
    "N_TEST = N_TOTAL - N_TRAIN - N_VALID\n",
    "\n",
    "print('Numbers of samples for (total, train, valid, test):', N_TOTAL, N_TRAIN, N_VALID, N_TEST)\n",
    "\n",
    "# shuffle the data\n",
    "orig_df = orig_df.sample(frac=1.)\n",
    "\n",
    "df_train = orig_df.iloc[:N_TRAIN]\n",
    "df_valid = orig_df.iloc[N_TRAIN:N_TRAIN+N_VALID]\n",
    "df_test = orig_df.iloc[N_TRAIN+N_VALID:]"
   ]
  },
  {
   "cell_type": "code",
   "execution_count": 12,
   "metadata": {},
   "outputs": [],
   "source": [
    "# global constant\n",
    "BATCH_SIZE = 8\n",
    "EPOCHS = 25\n",
    "\n",
    "ONNX_MODEL_FILE = 'modelbc-artifact/modelbc.onnx'"
   ]
  },
  {
   "cell_type": "code",
   "execution_count": 13,
   "metadata": {},
   "outputs": [],
   "source": [
    "# to convert in TF dataset\n",
    "#adapted from https://www.tensorflow.org/tutorials/structured_data/feature_columns\n",
    "def df_to_dataset(df, predictor,  batch_size=32, shuffle=True):\n",
    "    df = df.copy()\n",
    "    labels = df.pop(predictor)\n",
    "    ds = tf.data.Dataset.from_tensor_slices((dict(df), labels))\n",
    "    \n",
    "    if shuffle:\n",
    "        # don't shuffle test\n",
    "        ds = ds.shuffle(buffer_size=len(df))\n",
    "        \n",
    "    ds = ds.batch(batch_size)\n",
    "    return ds"
   ]
  },
  {
   "cell_type": "code",
   "execution_count": 14,
   "metadata": {},
   "outputs": [],
   "source": [
    "# TF datasets\n",
    "ds_train = df_to_dataset(df_train, 'target', batch_size=BATCH_SIZE)\n",
    "ds_valid = df_to_dataset(df_valid, 'target', batch_size=BATCH_SIZE)\n",
    "ds_test = df_to_dataset(df_test, 'target', batch_size=BATCH_SIZE, shuffle=False)"
   ]
  },
  {
   "cell_type": "code",
   "execution_count": 15,
   "metadata": {},
   "outputs": [],
   "source": [
    "# crate a batch for normalization test\n",
    "iter1 = iter(ds_train)\n",
    "\n",
    "batch1 = next(iter1)[0]"
   ]
  },
  {
   "cell_type": "code",
   "execution_count": 16,
   "metadata": {},
   "outputs": [],
   "source": [
    "# l'uso della Column Feature API è semplice, sono tutte colonne numeriche (float)\n",
    "# devo solo normalizzare\n",
    "\n",
    "# devo prendere medie e std per la normalizzazione soltanto dal train set\n",
    "\n",
    "# helper functions\n",
    "def calculate_stats_from_train_data(df, col):\n",
    "    mean = df[col].describe()['mean']\n",
    "    std = df[col].describe()['std']\n",
    "    return mean, std\n",
    "\n",
    "# a single function for all features (in input mean, std)\n",
    "def normalize(mean, std):\n",
    "    '''\n",
    "    This function can be used in conjunction with the tf feature column for normalization\n",
    "    '''\n",
    "    def norm_func(col):\n",
    "        col = tf.cast(col, tf.float32)\n",
    "        \n",
    "        return (col - mean)/std\n",
    "    \n",
    "    return norm_func\n",
    "\n",
    "def create_tf_numeric_feature(col, MEAN, STD):\n",
    "    '''\n",
    "    col: string, input numerical column name\n",
    "    MEAN: the mean for the column \n",
    "    STD: the standard deviation for the column\n",
    "    default_value: the value that will be used for imputing the field\n",
    "    return:\n",
    "        tf_numeric_feature: tf feature column representation of the input field\n",
    "    '''\n",
    "    tf_numeric_feature = tf.feature_column.numeric_column(col, dtype=tf.dtypes.float32, \n",
    "                                                          normalizer_fn=normalize(MEAN, STD))\n",
    "    return tf_numeric_feature\n",
    "\n",
    "def create_tf_numerical_feature_cols(numerical_col_list, train_df):\n",
    "    tf_numeric_col_list = []\n",
    "    for c in numerical_col_list:\n",
    "        mean, std = calculate_stats_from_train_data(train_df, c)\n",
    "\n",
    "        tf_numeric_feature = create_tf_numeric_feature(c, mean, std)\n",
    "        tf_numeric_col_list.append(tf_numeric_feature)\n",
    "    return tf_numeric_col_list\n",
    "\n",
    "def demo(feature_column, example_batch):\n",
    "    feature_layer = tf.keras.layers.DenseFeatures(feature_column, dtype='float32')\n",
    "    print(feature_layer(example_batch))"
   ]
  },
  {
   "cell_type": "code",
   "execution_count": 73,
   "metadata": {},
   "outputs": [
    {
     "name": "stdout",
     "output_type": "stream",
     "text": [
      "We have selected 13 features\n"
     ]
    }
   ],
   "source": [
    "selected_features_list = ['mean_radius', 'mean_smoothness', 'mean_compactness', 'mean_texture', 'mean_symmetry','mean_concavity','mean_fractal_dimension',\n",
    "                         'radius_error', 'texture_error', 'smoothness_error',\n",
    "                         'worst_radius', 'worst_texture', 'worst_symmetry']\n",
    "\n",
    "print('We have selected', len(selected_features_list), 'features')"
   ]
  },
  {
   "cell_type": "code",
   "execution_count": 19,
   "metadata": {},
   "outputs": [],
   "source": [
    "tf_num_list = create_tf_numerical_feature_cols(selected_features_list, df_train)"
   ]
  },
  {
   "cell_type": "code",
   "execution_count": 20,
   "metadata": {},
   "outputs": [
    {
     "data": {
      "text/plain": [
       "[NumericColumn(key='mean_radius', shape=(1,), default_value=None, dtype=tf.float32, normalizer_fn=<function normalize.<locals>.norm_func at 0x7fe4d4e639e0>),\n",
       " NumericColumn(key='mean_smoothness', shape=(1,), default_value=None, dtype=tf.float32, normalizer_fn=<function normalize.<locals>.norm_func at 0x7fe4d4e63950>),\n",
       " NumericColumn(key='mean_compactness', shape=(1,), default_value=None, dtype=tf.float32, normalizer_fn=<function normalize.<locals>.norm_func at 0x7fe4d4e63a70>),\n",
       " NumericColumn(key='mean_texture', shape=(1,), default_value=None, dtype=tf.float32, normalizer_fn=<function normalize.<locals>.norm_func at 0x7fe4d4e63b00>),\n",
       " NumericColumn(key='mean_symmetry', shape=(1,), default_value=None, dtype=tf.float32, normalizer_fn=<function normalize.<locals>.norm_func at 0x7fe4d4e63b90>),\n",
       " NumericColumn(key='mean_concavity', shape=(1,), default_value=None, dtype=tf.float32, normalizer_fn=<function normalize.<locals>.norm_func at 0x7fe4d4e63c20>),\n",
       " NumericColumn(key='mean_fractal_dimension', shape=(1,), default_value=None, dtype=tf.float32, normalizer_fn=<function normalize.<locals>.norm_func at 0x7fe4d4e63cb0>),\n",
       " NumericColumn(key='radius_error', shape=(1,), default_value=None, dtype=tf.float32, normalizer_fn=<function normalize.<locals>.norm_func at 0x7fe4d4e63d40>),\n",
       " NumericColumn(key='texture_error', shape=(1,), default_value=None, dtype=tf.float32, normalizer_fn=<function normalize.<locals>.norm_func at 0x7fe4d4e63dd0>),\n",
       " NumericColumn(key='smoothness_error', shape=(1,), default_value=None, dtype=tf.float32, normalizer_fn=<function normalize.<locals>.norm_func at 0x7fe4d4e63e60>),\n",
       " NumericColumn(key='worst_radius', shape=(1,), default_value=None, dtype=tf.float32, normalizer_fn=<function normalize.<locals>.norm_func at 0x7fe4d4e63f80>),\n",
       " NumericColumn(key='worst_texture', shape=(1,), default_value=None, dtype=tf.float32, normalizer_fn=<function normalize.<locals>.norm_func at 0x7fe4d4e63ef0>),\n",
       " NumericColumn(key='worst_symmetry', shape=(1,), default_value=None, dtype=tf.float32, normalizer_fn=<function normalize.<locals>.norm_func at 0x7fe4d4e600e0>)]"
      ]
     },
     "execution_count": 20,
     "metadata": {},
     "output_type": "execute_result"
    }
   ],
   "source": [
    "tf_num_list"
   ]
  },
  {
   "cell_type": "code",
   "execution_count": 21,
   "metadata": {},
   "outputs": [
    {
     "name": "stdout",
     "output_type": "stream",
     "text": [
      "Example continuous field:\n",
      "NumericColumn(key='mean_radius', shape=(1,), default_value=None, dtype=tf.float32, normalizer_fn=<function normalize.<locals>.norm_func at 0x7fe4d4e639e0>)\n",
      "\n",
      "tf.Tensor(\n",
      "[[-1.4228904 ]\n",
      " [-1.5240549 ]\n",
      " [-0.45617858]\n",
      " [ 0.28701133]\n",
      " [-0.4307462 ]\n",
      " [-0.5833403 ]\n",
      " [-0.80940574]\n",
      " [-0.06056404]], shape=(8, 1), dtype=float32)\n"
     ]
    }
   ],
   "source": [
    "test_cont_var1 = tf_num_list[0]\n",
    "\n",
    "print(\"Example continuous field:\\n{}\\n\".format(test_cont_var1))\n",
    "\n",
    "demo(test_cont_var1, batch1)"
   ]
  },
  {
   "cell_type": "code",
   "execution_count": 22,
   "metadata": {},
   "outputs": [],
   "source": [
    "import logging\n",
    "# added to remove TF warnings !\n",
    "logger = tf.get_logger()\n",
    "logger.setLevel(logging.ERROR)\n",
    "        \n",
    "def build_model(tf_num_list):\n",
    "    bce = tf.keras.losses.BinaryCrossentropy(from_logits=True)\n",
    "    \n",
    "    # layer for normalizations\n",
    "    feature_layer = tf.keras.layers.DenseFeatures(tf_num_list, name='layer0')\n",
    "    \n",
    "    model = tf.keras.Sequential([\n",
    "        feature_layer,\n",
    "        tf.keras.layers.Dense(8, activation='relu', name='layer1'),\n",
    "        tf.keras.layers.Dropout(0.3),\n",
    "        tf.keras.layers.Dense(16, activation='relu', name='layer2'),\n",
    "        tf.keras.layers.Dropout(0.3),\n",
    "        tf.keras.layers.Dense(16, activation='relu', name='layer3'),\n",
    "        tf.keras.layers.Dropout(0.2),\n",
    "        tf.keras.layers.Dense(8, activation='relu', name='layer4'),\n",
    "        tf.keras.layers.Dropout(0.2),\n",
    "        \n",
    "        # Output logits here, for better numerical stability\n",
    "        tf.keras.layers.Dense(1, name='layer5'),\n",
    "    ])\n",
    "    model.compile(optimizer='adam', loss=bce, metrics=['accuracy'])\n",
    "    \n",
    "    return model"
   ]
  },
  {
   "cell_type": "code",
   "execution_count": 23,
   "metadata": {},
   "outputs": [],
   "source": [
    "model = build_model(tf_num_list)"
   ]
  },
  {
   "cell_type": "code",
   "execution_count": 24,
   "metadata": {},
   "outputs": [
    {
     "name": "stdout",
     "output_type": "stream",
     "text": [
      "Epoch 1/25\n",
      "19/50 [==========>...................] - ETA: 0s - loss: 0.6544 - accuracy: 0.3882\n",
      "Epoch 00001: val_loss improved from inf to 0.61542, saving model to model_save/modelbc\n",
      "50/50 [==============================] - 0s 8ms/step - loss: 0.6443 - accuracy: 0.4422 - val_loss: 0.6154 - val_accuracy: 0.6118\n",
      "Epoch 2/25\n",
      "49/50 [============================>.] - ETA: 0s - loss: 0.5627 - accuracy: 0.6224\n",
      "Epoch 00002: val_loss improved from 0.61542 to 0.53737, saving model to model_save/modelbc\n",
      "50/50 [==============================] - 0s 3ms/step - loss: 0.5609 - accuracy: 0.6231 - val_loss: 0.5374 - val_accuracy: 0.8588\n",
      "Epoch 3/25\n",
      "27/50 [===============>..............] - ETA: 0s - loss: 0.4866 - accuracy: 0.7361\n",
      "Epoch 00003: val_loss improved from 0.53737 to 0.45427, saving model to model_save/modelbc\n",
      "50/50 [==============================] - 0s 2ms/step - loss: 0.5048 - accuracy: 0.7362 - val_loss: 0.4543 - val_accuracy: 0.9059\n",
      "Epoch 4/25\n",
      "22/50 [============>.................] - ETA: 0s - loss: 0.4377 - accuracy: 0.7841\n",
      "Epoch 00004: val_loss improved from 0.45427 to 0.35108, saving model to model_save/modelbc\n",
      "50/50 [==============================] - 0s 3ms/step - loss: 0.4353 - accuracy: 0.8040 - val_loss: 0.3511 - val_accuracy: 0.9294\n",
      "Epoch 5/25\n",
      "25/50 [==============>...............] - ETA: 0s - loss: 0.3754 - accuracy: 0.8400\n",
      "Epoch 00005: val_loss improved from 0.35108 to 0.26241, saving model to model_save/modelbc\n",
      "50/50 [==============================] - 0s 3ms/step - loss: 0.3547 - accuracy: 0.8442 - val_loss: 0.2624 - val_accuracy: 0.9412\n",
      "Epoch 6/25\n",
      "19/50 [==========>...................] - ETA: 0s - loss: 0.3202 - accuracy: 0.8618\n",
      "Epoch 00006: val_loss improved from 0.26241 to 0.22161, saving model to model_save/modelbc\n",
      "50/50 [==============================] - 0s 3ms/step - loss: 0.3057 - accuracy: 0.8543 - val_loss: 0.2216 - val_accuracy: 0.9529\n",
      "Epoch 7/25\n",
      "22/50 [============>.................] - ETA: 0s - loss: 0.3046 - accuracy: 0.8750\n",
      "Epoch 00007: val_loss improved from 0.22161 to 0.19396, saving model to model_save/modelbc\n",
      "50/50 [==============================] - 0s 3ms/step - loss: 0.3002 - accuracy: 0.8819 - val_loss: 0.1940 - val_accuracy: 0.9412\n",
      "Epoch 8/25\n",
      "43/50 [========================>.....] - ETA: 0s - loss: 0.2616 - accuracy: 0.8924\n",
      "Epoch 00008: val_loss improved from 0.19396 to 0.18528, saving model to model_save/modelbc\n",
      "50/50 [==============================] - 0s 3ms/step - loss: 0.2670 - accuracy: 0.8894 - val_loss: 0.1853 - val_accuracy: 0.9412\n",
      "Epoch 9/25\n",
      "36/50 [====================>.........] - ETA: 0s - loss: 0.2095 - accuracy: 0.9132\n",
      "Epoch 00009: val_loss improved from 0.18528 to 0.18305, saving model to model_save/modelbc\n",
      "50/50 [==============================] - 0s 3ms/step - loss: 0.2223 - accuracy: 0.9070 - val_loss: 0.1831 - val_accuracy: 0.9529\n",
      "Epoch 10/25\n",
      "48/50 [===========================>..] - ETA: 0s - loss: 0.1917 - accuracy: 0.9271\n",
      "Epoch 00010: val_loss improved from 0.18305 to 0.16289, saving model to model_save/modelbc\n",
      "50/50 [==============================] - 0s 3ms/step - loss: 0.1890 - accuracy: 0.9271 - val_loss: 0.1629 - val_accuracy: 0.9647\n",
      "Epoch 11/25\n",
      "26/50 [==============>...............] - ETA: 0s - loss: 0.1555 - accuracy: 0.9519\n",
      "Epoch 00011: val_loss improved from 0.16289 to 0.15970, saving model to model_save/modelbc\n",
      "50/50 [==============================] - 0s 3ms/step - loss: 0.1873 - accuracy: 0.9322 - val_loss: 0.1597 - val_accuracy: 0.9647\n",
      "Epoch 12/25\n",
      "45/50 [==========================>...] - ETA: 0s - loss: 0.1746 - accuracy: 0.9333\n",
      "Epoch 00012: val_loss did not improve from 0.15970\n",
      "50/50 [==============================] - 0s 3ms/step - loss: 0.1711 - accuracy: 0.9322 - val_loss: 0.1608 - val_accuracy: 0.9647\n",
      "Epoch 13/25\n",
      "47/50 [===========================>..] - ETA: 0s - loss: 0.2035 - accuracy: 0.9255\n",
      "Epoch 00013: val_loss improved from 0.15970 to 0.15917, saving model to model_save/modelbc\n",
      "50/50 [==============================] - 0s 3ms/step - loss: 0.1997 - accuracy: 0.9271 - val_loss: 0.1592 - val_accuracy: 0.9647\n",
      "Epoch 14/25\n",
      "38/50 [=====================>........] - ETA: 0s - loss: 0.2185 - accuracy: 0.9211\n",
      "Epoch 00014: val_loss did not improve from 0.15917\n",
      "50/50 [==============================] - 0s 3ms/step - loss: 0.1919 - accuracy: 0.9347 - val_loss: 0.1606 - val_accuracy: 0.9647\n",
      "Epoch 15/25\n",
      "34/50 [===================>..........] - ETA: 0s - loss: 0.1478 - accuracy: 0.9338\n",
      "Epoch 00015: val_loss did not improve from 0.15917\n",
      "50/50 [==============================] - 0s 3ms/step - loss: 0.1614 - accuracy: 0.9246 - val_loss: 0.1648 - val_accuracy: 0.9647\n",
      "Epoch 16/25\n",
      "46/50 [==========================>...] - ETA: 0s - loss: 0.1729 - accuracy: 0.9484\n",
      "Epoch 00016: val_loss did not improve from 0.15917\n",
      "50/50 [==============================] - 0s 9ms/step - loss: 0.1633 - accuracy: 0.9523 - val_loss: 0.1786 - val_accuracy: 0.9647\n",
      "Epoch 17/25\n",
      "43/50 [========================>.....] - ETA: 0s - loss: 0.1719 - accuracy: 0.9506\n",
      "Epoch 00017: val_loss did not improve from 0.15917\n",
      "50/50 [==============================] - 0s 5ms/step - loss: 0.1636 - accuracy: 0.9523 - val_loss: 0.1645 - val_accuracy: 0.9647\n",
      "Epoch 18/25\n",
      "35/50 [====================>.........] - ETA: 0s - loss: 0.1887 - accuracy: 0.9500\n",
      "Epoch 00018: val_loss did not improve from 0.15917\n",
      "50/50 [==============================] - 0s 6ms/step - loss: 0.1585 - accuracy: 0.9573 - val_loss: 0.1618 - val_accuracy: 0.9647\n",
      "Epoch 19/25\n",
      "36/50 [====================>.........] - ETA: 0s - loss: 0.1533 - accuracy: 0.9479\n",
      "Epoch 00019: val_loss improved from 0.15917 to 0.15539, saving model to model_save/modelbc\n",
      "50/50 [==============================] - 0s 3ms/step - loss: 0.1787 - accuracy: 0.9497 - val_loss: 0.1554 - val_accuracy: 0.9647\n",
      "Epoch 20/25\n",
      "41/50 [=======================>......] - ETA: 0s - loss: 0.1623 - accuracy: 0.9360\n",
      "Epoch 00020: val_loss did not improve from 0.15539\n",
      "50/50 [==============================] - 0s 4ms/step - loss: 0.1662 - accuracy: 0.9322 - val_loss: 0.1694 - val_accuracy: 0.9647\n",
      "Epoch 21/25\n",
      "34/50 [===================>..........] - ETA: 0s - loss: 0.1478 - accuracy: 0.9596\n",
      "Epoch 00021: val_loss did not improve from 0.15539\n",
      "50/50 [==============================] - 0s 3ms/step - loss: 0.1293 - accuracy: 0.9648 - val_loss: 0.1653 - val_accuracy: 0.9647\n",
      "Epoch 22/25\n",
      "44/50 [=========================>....] - ETA: 0s - loss: 0.1944 - accuracy: 0.9403\n",
      "Epoch 00022: val_loss improved from 0.15539 to 0.14726, saving model to model_save/modelbc\n",
      "50/50 [==============================] - 0s 3ms/step - loss: 0.1851 - accuracy: 0.9397 - val_loss: 0.1473 - val_accuracy: 0.9647\n",
      "Epoch 23/25\n",
      "43/50 [========================>.....] - ETA: 0s - loss: 0.1812 - accuracy: 0.9390\n",
      "Epoch 00023: val_loss did not improve from 0.14726\n",
      "50/50 [==============================] - 0s 3ms/step - loss: 0.1729 - accuracy: 0.9422 - val_loss: 0.1480 - val_accuracy: 0.9647\n",
      "Epoch 24/25\n",
      "40/50 [=======================>......] - ETA: 0s - loss: 0.1418 - accuracy: 0.9531\n",
      "Epoch 00024: val_loss did not improve from 0.14726\n",
      "50/50 [==============================] - 0s 6ms/step - loss: 0.1457 - accuracy: 0.9497 - val_loss: 0.1569 - val_accuracy: 0.9529\n",
      "Epoch 25/25\n",
      "45/50 [==========================>...] - ETA: 0s - loss: 0.1671 - accuracy: 0.9611\n",
      "Epoch 00025: val_loss did not improve from 0.14726\n",
      "50/50 [==============================] - 0s 4ms/step - loss: 0.1619 - accuracy: 0.9623 - val_loss: 0.1565 - val_accuracy: 0.9647\n",
      "\n",
      "Elapsed time: 6.0\n"
     ]
    }
   ],
   "source": [
    "tStart = time.time()\n",
    "\n",
    "# callback to save the best model\n",
    "sv = tf.keras.callbacks.ModelCheckpoint('model_save/modelbc', monitor='val_loss', verbose=1, save_best_only=True,\n",
    "                                            save_weights_only=True, mode='min', save_freq='epoch')\n",
    "\n",
    "history = model.fit(ds_train, validation_data=ds_valid, callbacks=[sv], epochs=EPOCHS, verbose=1)\n",
    "    \n",
    "tEla = round(time.time() - tStart, 1)\n",
    "print('')\n",
    "print('Elapsed time:', tEla)"
   ]
  },
  {
   "cell_type": "code",
   "execution_count": 25,
   "metadata": {},
   "outputs": [],
   "source": [
    "def plot_loss(hist, skip):\n",
    "    plt.figure(figsize=(14,6))\n",
    "    \n",
    "    plt.plot(hist.history['loss'][skip:], label='Training loss')\n",
    "    plt.plot(hist.history['val_loss'][skip:], label='Validation loss')\n",
    "    plt.title('Loss')\n",
    "    plt.legend(loc='upper right')\n",
    "    plt.ylabel('loss')\n",
    "    plt.xlabel('epoch')\n",
    "    plt.grid(True)\n",
    "    plt.show();"
   ]
  },
  {
   "cell_type": "code",
   "execution_count": 26,
   "metadata": {},
   "outputs": [
    {
     "data": {
      "image/png": "[encoded data removed]",
      "text/plain": [
       "<Figure size 1008x432 with 1 Axes>"
      ]
     },
     "metadata": {
      "needs_background": "light"
     },
     "output_type": "display_data"
    }
   ],
   "source": [
    "plot_loss(history, 2)"
   ]
  },
  {
   "cell_type": "code",
   "execution_count": 27,
   "metadata": {},
   "outputs": [
    {
     "name": "stdout",
     "output_type": "stream",
     "text": [
      "Model: \"sequential\"\n",
      "_________________________________________________________________\n",
      "Layer (type)                 Output Shape              Param #   \n",
      "=================================================================\n",
      "layer0 (DenseFeatures)       multiple                  0         \n",
      "_________________________________________________________________\n",
      "layer1 (Dense)               multiple                  112       \n",
      "_________________________________________________________________\n",
      "dropout (Dropout)            multiple                  0         \n",
      "_________________________________________________________________\n",
      "layer2 (Dense)               multiple                  144       \n",
      "_________________________________________________________________\n",
      "dropout_1 (Dropout)          multiple                  0         \n",
      "_________________________________________________________________\n",
      "layer3 (Dense)               multiple                  272       \n",
      "_________________________________________________________________\n",
      "dropout_2 (Dropout)          multiple                  0         \n",
      "_________________________________________________________________\n",
      "layer4 (Dense)               multiple                  136       \n",
      "_________________________________________________________________\n",
      "dropout_3 (Dropout)          multiple                  0         \n",
      "_________________________________________________________________\n",
      "layer5 (Dense)               multiple                  9         \n",
      "=================================================================\n",
      "Total params: 673\n",
      "Trainable params: 673\n",
      "Non-trainable params: 0\n",
      "_________________________________________________________________\n"
     ]
    }
   ],
   "source": [
    "model.summary()"
   ]
  },
  {
   "cell_type": "code",
   "execution_count": 28,
   "metadata": {},
   "outputs": [],
   "source": [
    "# load the best model\n",
    "model = build_model(tf_num_list)\n",
    "\n",
    "model.load_weights('model_save/modelbc')\n",
    "\n",
    "# the last layer of the model output logits... for probability I need to add a sigmoid at the end\n",
    "model.add(tf.keras.layers.Activation('sigmoid'))"
   ]
  },
  {
   "cell_type": "code",
   "execution_count": 72,
   "metadata": {},
   "outputs": [
    {
     "name": "stdout",
     "output_type": "stream",
     "text": [
      "Evaluate on test set\n",
      "11/11 [==============================] - 0s 3ms/step - loss: 0.4838 - accuracy: 0.9419\n",
      "\n",
      "Size of test dataset 86\n",
      "The confusion matrix is (tn, fp, fn, tp) (27, 4, 1, 54)\n",
      "Number of errors 5\n"
     ]
    }
   ],
   "source": [
    "# evaluate model accuracy on TEST dataset\n",
    "print('Evaluate on test set')\n",
    "model.evaluate(ds_test)\n",
    "\n",
    "# compute the confusion matrix\n",
    "THRESHOLD = 0.5\n",
    "\n",
    "y_pred = tf.cast((model.predict(ds_test) >= THRESHOLD), tf.int32)\n",
    "y_true = df_test['target'].values\n",
    "tn, fp, fn, tp = confusion_matrix(y_true, y_pred).ravel()\n",
    "\n",
    "print('')\n",
    "print('Size of test dataset', len(y_true))\n",
    "print('The confusion matrix is (tn, fp, fn, tp)', (tn, fp, fn, tp))\n",
    "print('Number of errors', (fp+fn))"
   ]
  },
  {
   "cell_type": "markdown",
   "metadata": {},
   "source": [
    "### Save in ONNX format"
   ]
  },
  {
   "cell_type": "code",
   "execution_count": 31,
   "metadata": {},
   "outputs": [
    {
     "name": "stderr",
     "output_type": "stream",
     "text": [
      "tf executing eager_mode: True\n",
      "tf.keras model eager_mode: False\n",
      "The ONNX operator number change on the optimization: 214 -> 133\n"
     ]
    }
   ],
   "source": [
    "onnx_model = keras2onnx.convert_keras(model, model.name)\n",
    "\n",
    "keras2onnx.save_model(onnx_model, ONNX_MODEL_FILE)"
   ]
  },
  {
   "cell_type": "markdown",
   "metadata": {},
   "source": [
    "### run predictions with ONNX"
   ]
  },
  {
   "cell_type": "code",
   "execution_count": 61,
   "metadata": {},
   "outputs": [
    {
     "name": "stdout",
     "output_type": "stream",
     "text": [
      "Loading OK\n"
     ]
    }
   ],
   "source": [
    "# first, a function to load the model and create an ONNX session\n",
    "def create_session(onnx_file_name, print_info=False):\n",
    "    sess = rt.InferenceSession(onnx_file_name)\n",
    "    \n",
    "    print('Loading OK')\n",
    "    \n",
    "    if print_info:\n",
    "        print(\"ONNX model expects \", len(sess.get_inputs()), 'features:')\n",
    "        # prints names of features\n",
    "        for n, input in enumerate(sess.get_inputs()):\n",
    "            print(input.name)\n",
    "        \n",
    "    return sess\n",
    "\n",
    "# build the input as expected from ONNX runtime\n",
    "def build_input_feed(f_batch):\n",
    "    # input: the features_batch as extracted from TF dataset\n",
    "    # devo costruire il dict come se lo aspetta onnx\n",
    "    \n",
    "    input_dict = {}\n",
    "    \n",
    "    # ogni feature è un singolo valore\n",
    "    for col in f_batch.keys():\n",
    "        # get the numpy array of values\n",
    "        values = f_batch[col].numpy()\n",
    "        n_rows = len(values)\n",
    "        input_dict[col] = values.reshape((n_rows, 1))\n",
    "    \n",
    "    # input_feed is the dictionary input to ONNX model\n",
    "    # for every feature a column vector (n_rows, 1)\n",
    "    return input_dict\n",
    "\n",
    "def onnx_predict(f_batch, sess=create_session(ONNX_MODEL_FILE)):\n",
    "    # transform the input\n",
    "    input_feed = build_input_feed(f_batch)\n",
    "    \n",
    "    # run inference\n",
    "    pred_onnx = sess.run(None, input_feed)\n",
    "    \n",
    "    # build output\n",
    "    output = {}\n",
    "    output['probs'] = pred_onnx[0]\n",
    "    \n",
    "    return output"
   ]
  },
  {
   "cell_type": "markdown",
   "metadata": {},
   "source": [
    "### now, do the test"
   ]
  },
  {
   "cell_type": "code",
   "execution_count": 64,
   "metadata": {},
   "outputs": [
    {
     "name": "stdout",
     "output_type": "stream",
     "text": [
      "Batch n. 1\n",
      "Batch n. 2\n",
      "Batch n. 3\n",
      "Batch n. 4\n",
      "Batch n. 5\n",
      "Batch n. 6\n",
      "Batch n. 7\n",
      "Batch n. 8\n",
      "Batch n. 9\n",
      "Batch n. 10\n",
      "Batch n. 11\n",
      "\n",
      "ONNX test OK.\n"
     ]
    }
   ],
   "source": [
    "# this way I take only the feature batch out of a dataset batch\n",
    "\n",
    "# do the test on the entire test dataset\n",
    "for i, f_batch in enumerate(iter(ds_test)):\n",
    "    print('Batch n.', i+1)\n",
    "    \n",
    "    # needed\n",
    "    f_batch = f_batch[0]\n",
    "    \n",
    "    onnx_probs = onnx_predict(f_batch)\n",
    "    # print(onnx_probs)\n",
    "    \n",
    "    # check that preds from onnx model are equals to check from direct keras model (just to see we have not introduced bugs)\n",
    "    # need to round (there are small differences)\n",
    "    assert np.round(onnx_probs['probs'], 3).all() == np.round(model.predict(f_batch), 3).all()\n",
    "\n",
    "print('')\n",
    "print('ONNX test OK.')"
   ]
  },
  {
   "cell_type": "markdown",
   "metadata": {},
   "source": [
    "### prepare for model deployment"
   ]
  },
  {
   "cell_type": "code",
   "execution_count": null,
   "metadata": {},
   "outputs": [],
   "source": []
  }
 ],
 "metadata": {
  "kernelspec": {
   "display_name": "Python 3",
   "language": "python",
   "name": "python3"
  },
  "language_info": {
   "codemirror_mode": {
    "name": "ipython",
    "version": 3
   },
   "file_extension": ".py",
   "mimetype": "text/x-python",
   "name": "python",
   "nbconvert_exporter": "python",
   "pygments_lexer": "ipython3",
   "version": "3.7.9"
  }
 },
 "nbformat": 4,
 "nbformat_minor": 4
}
